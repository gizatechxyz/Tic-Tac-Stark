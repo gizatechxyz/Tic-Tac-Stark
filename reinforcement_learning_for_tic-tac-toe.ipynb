{
 "cells": [
  {
   "cell_type": "markdown",
   "metadata": {},
   "source": [
    "# Reinforcement learning for tic-tac-toe\n",
    "\n",
    "In which we solve the problem of teaching a neural network to play tic-tac-toe.\n",
    "\n",
    "* First, we import libraries for this example:"
   ]
  },
  {
   "cell_type": "code",
   "execution_count": 2,
   "metadata": {},
   "outputs": [],
   "source": [
    "import random\n",
    "import numpy as np\n",
    "import keras\n",
    "from keras.models import Sequential\n",
    "from keras.layers import Dense\n",
    "from keras.layers import Dropout\n",
    "from keras.backend import reshape\n",
    "from keras.utils import to_categorical"
   ]
  },
  {
   "cell_type": "markdown",
   "metadata": {},
   "source": [
    "* Next we write helper methods to initialize the board, get a list of valid moves, declare a winner, and print the current board."
   ]
  },
  {
   "cell_type": "code",
   "execution_count": 3,
   "metadata": {},
   "outputs": [],
   "source": [
    "# Get an empty board\n",
    "#\n",
    "# 0 indicates an empty space, 1 indicates an 'X' (player 1), and 2 indicates an 'O' (player 2)\n",
    "#\n",
    "# Initially the board is empty, so we return a 3x3 array of zeroes.\n",
    "def initBoard():\n",
    "    board = [\n",
    "        [0, 0, 0],\n",
    "        [0, 0, 0],\n",
    "        [0, 0, 0]\n",
    "    ]\n",
    "    return board\n",
    "\n",
    "# Print the current state of the board\n",
    "def printBoard(board):\n",
    "    for i in range(len(board)):\n",
    "        for j in range(len(board[i])):\n",
    "            mark = ' '\n",
    "            if board[i][j] == 1:\n",
    "                mark = 'X'\n",
    "            elif board[i][j] == 2:\n",
    "                mark = 'O'\n",
    "            if (j == len(board[i]) - 1):\n",
    "                print(mark)\n",
    "            else:\n",
    "                print(str(mark) + \"|\", end='')\n",
    "        if (i < len(board) - 1):\n",
    "            print(\"-----\")\n",
    "\n",
    "# Get a list of valid moves (indices into the board)\n",
    "def getMoves(board):\n",
    "    moves = []\n",
    "    for i in range(len(board)):\n",
    "        for j in range(len(board[i])):\n",
    "            if board[i][j] == 0:\n",
    "                moves.append((i, j))\n",
    "    return moves\n",
    "\n",
    "# Declare a winner\n",
    "#\n",
    "# -1 = game not over\n",
    "#  0 = draw\n",
    "#  1 = 'X' wins (player 1)\n",
    "#  2 = 'O' wins (player 2)\n",
    "def getWinner(board):\n",
    "    candidate = 0\n",
    "    won = 0\n",
    "    \n",
    "    # Check rows\n",
    "    for i in range(len(board)):\n",
    "        candidate = 0\n",
    "        for j in range(len(board[i])):\n",
    "            \n",
    "            # Make sure there are no gaps\n",
    "            if board[i][j] == 0:\n",
    "                break\n",
    "            \n",
    "            # Identify the front-runner\n",
    "            if candidate == 0:\n",
    "                candidate = board[i][j]\n",
    "            \n",
    "            # Determine whether the front-runner has all the slots\n",
    "            if candidate != board[i][j]:\n",
    "                break\n",
    "            elif j == len(board[i]) - 1:\n",
    "                won = candidate\n",
    "    \n",
    "    if won > 0:\n",
    "        return won\n",
    "    \n",
    "    # Check columns\n",
    "    for j in range(len(board[0])):\n",
    "        candidate = 0\n",
    "        for i in range(len(board)):\n",
    "            \n",
    "            # Make sure there are no gaps\n",
    "            if board[i][j] == 0:\n",
    "                break\n",
    "            \n",
    "            # Identify the front-runner\n",
    "            if candidate == 0:\n",
    "                candidate = board[i][j]\n",
    "            \n",
    "            # Determine whether the front-runner has all the slots\n",
    "            if candidate != board[i][j]:\n",
    "                break\n",
    "            elif i == len(board) - 1:\n",
    "                won = candidate\n",
    "    \n",
    "    if won > 0:\n",
    "        return won\n",
    "    \n",
    "    # Check diagonals\n",
    "    candidate = 0\n",
    "    for i in range(len(board)):\n",
    "        if board[i][i] == 0:\n",
    "            break\n",
    "        if candidate == 0:\n",
    "            candidate = board[i][i]\n",
    "        if candidate != board[i][i]:\n",
    "            break\n",
    "        elif i == len(board) - 1:\n",
    "            won = candidate\n",
    "    \n",
    "    if won > 0:\n",
    "        return won\n",
    "    \n",
    "    candidate = 0\n",
    "    for i in range(len(board)):\n",
    "        if board[i][2 - i] == 0:\n",
    "            break\n",
    "        if candidate == 0:\n",
    "            candidate = board[i][2 - i]\n",
    "        if candidate != board[i][2 - i]:\n",
    "            break\n",
    "        elif i == len(board) - 1:\n",
    "            won = candidate\n",
    "    \n",
    "    if won > 0:\n",
    "        return won\n",
    "    \n",
    "    # Still no winner?\n",
    "    if (len(getMoves(board)) == 0):\n",
    "        # It's a draw\n",
    "        return 0\n",
    "    else:\n",
    "        # Still more moves to make\n",
    "        return -1"
   ]
  },
  {
   "cell_type": "markdown",
   "metadata": {},
   "source": [
    "* Next, we test the helper methods to demonstrate that they work."
   ]
  },
  {
   "cell_type": "code",
   "execution_count": 4,
   "metadata": {},
   "outputs": [
    {
     "name": "stdout",
     "output_type": "stream",
     "text": [
      " | | \n",
      "-----\n",
      " | | \n",
      "-----\n",
      " | | \n",
      "-1\n",
      "[(0, 0), (0, 1), (0, 2), (1, 0), (1, 1), (1, 2), (2, 0), (2, 1), (2, 2)]\n",
      "X| | \n",
      "-----\n",
      " |X| \n",
      "-----\n",
      " | |X\n",
      "1\n",
      "X| |O\n",
      "-----\n",
      " |X|O\n",
      "-----\n",
      " | |O\n",
      "2\n",
      "O|X|O\n",
      "-----\n",
      "O|X|O\n",
      "-----\n",
      "X|O|X\n",
      "0\n"
     ]
    }
   ],
   "source": [
    "# Test helper methods\n",
    "b = initBoard()\n",
    "printBoard(b)\n",
    "print(getWinner(b))\n",
    "print(getMoves(b))\n",
    "\n",
    "b[0][0] = 1\n",
    "b[1][1] = 1\n",
    "b[2][2] = 1\n",
    "printBoard(b)\n",
    "print(getWinner(b))\n",
    "\n",
    "b[0][2] = 2\n",
    "b[1][2] = 2\n",
    "b[2][2] = 2\n",
    "printBoard(b)\n",
    "print(getWinner(b))\n",
    "\n",
    "b[0][1] = 1\n",
    "b[1][0] = 2\n",
    "b[2][0] = 1\n",
    "b[2][1] = 2\n",
    "b[2][2] = 1\n",
    "b[0][0] = 2\n",
    "printBoard(b)\n",
    "print(getWinner(b))"
   ]
  },
  {
   "cell_type": "markdown",
   "metadata": {},
   "source": [
    "* Next, we take everything we've done so far and create a random game simulator"
   ]
  },
  {
   "cell_type": "code",
   "execution_count": 5,
   "metadata": {},
   "outputs": [
    {
     "name": "stdout",
     "output_type": "stream",
     "text": [
      "[(1, (0, 2)), (2, (0, 0)), (1, (2, 0)), (2, (1, 1)), (1, (2, 2)), (2, (0, 1)), (1, (2, 1))]\n"
     ]
    }
   ],
   "source": [
    "random.seed()\n",
    "\n",
    "# Get best next move for the given player at the given board position\n",
    "def bestMove(board, model, player, rnd=0):\n",
    "    scores = []\n",
    "    moves = getMoves(board)\n",
    "    \n",
    "    # Make predictions for each possible move\n",
    "    for i in range(len(moves)):\n",
    "        future = np.array(board)\n",
    "        future[moves[i][0]][moves[i][1]] = player\n",
    "        prediction = model.predict(future.reshape((-1, 9)), verbose=0)[0]\n",
    "        if player == 1:\n",
    "            winPrediction = prediction[1]\n",
    "            lossPrediction = prediction[2]\n",
    "        else:\n",
    "            winPrediction = prediction[2]\n",
    "            lossPrediction = prediction[1]\n",
    "        drawPrediction = prediction[0]\n",
    "        if winPrediction - lossPrediction > 0:\n",
    "            scores.append(winPrediction - lossPrediction)\n",
    "        else:\n",
    "            scores.append(drawPrediction - lossPrediction)\n",
    "\n",
    "    # Choose the best move with a random factor\n",
    "    bestMoves = np.flip(np.argsort(scores))\n",
    "    for i in range(len(bestMoves)):\n",
    "        if random.random() * rnd < 0.5:\n",
    "            return moves[bestMoves[i]]\n",
    "\n",
    "    # Choose a move completely at random\n",
    "    return moves[random.randint(0, len(moves) - 1)]\n",
    "\n",
    "# Simulate a game\n",
    "def simulateGame(p1=None, p2=None, rnd=0):\n",
    "    history = []\n",
    "    board = initBoard()\n",
    "    playerToMove = 1\n",
    "    \n",
    "    while getWinner(board) == -1:\n",
    "        \n",
    "        # Chose a move (random or use a player model if provided)\n",
    "        move = None\n",
    "        if playerToMove == 1 and p1 != None:\n",
    "            move = bestMove(board, p1, playerToMove, rnd)\n",
    "        elif playerToMove == 2 and p2 != None:\n",
    "            move = bestMove(board, p2, playerToMove, rnd)\n",
    "        else:\n",
    "            moves = getMoves(board)\n",
    "            move = moves[random.randint(0, len(moves) - 1)]\n",
    "        \n",
    "        # Make the move\n",
    "        board[move[0]][move[1]] = playerToMove\n",
    "        \n",
    "        # Add the move to the history\n",
    "        history.append((playerToMove, move))\n",
    "        \n",
    "        # Switch the active player\n",
    "        playerToMove = 1 if playerToMove == 2 else 2\n",
    "        \n",
    "    return history\n",
    "\n",
    "# Simulate a game\n",
    "history = simulateGame()\n",
    "print(history)"
   ]
  },
  {
   "cell_type": "code",
   "execution_count": 6,
   "metadata": {},
   "outputs": [
    {
     "name": "stdout",
     "output_type": "stream",
     "text": [
      "O|O|X\n",
      "-----\n",
      " |O| \n",
      "-----\n",
      "X|X|X\n",
      "1\n"
     ]
    }
   ],
   "source": [
    "# Reconstruct the board from the move list\n",
    "def movesToBoard(moves):\n",
    "    board = initBoard()\n",
    "    for move in moves:\n",
    "        player = move[0]\n",
    "        coords = move[1]\n",
    "        board[coords[0]][coords[1]] = player\n",
    "    return board\n",
    "\n",
    "board = movesToBoard(history)\n",
    "printBoard(board)\n",
    "print(getWinner(board))"
   ]
  },
  {
   "cell_type": "markdown",
   "metadata": {},
   "source": [
    "* Next, we generate a set of simulated games to train our neural network and calculate some win statistics for each random player. We predict that 'X' (player 1) should have a slight edge due to first mover advantage, but that both players have roughly the same number of wins, draws, and losses overall."
   ]
  },
  {
   "cell_type": "code",
   "execution_count": 7,
   "metadata": {},
   "outputs": [],
   "source": [
    "games = [simulateGame() for _ in range(10000)]"
   ]
  },
  {
   "cell_type": "code",
   "execution_count": 8,
   "metadata": {},
   "outputs": [
    {
     "name": "stdout",
     "output_type": "stream",
     "text": [
      "Results for player 1:\n",
      "Wins: 5837 (58.4%)\n",
      "Loss: 2884 (28.8%)\n",
      "Draw: 1279 (12.8%)\n",
      "\n",
      "Results for player 2:\n",
      "Wins: 2884 (28.8%)\n",
      "Loss: 5837 (58.4%)\n",
      "Draw: 1279 (12.8%)\n"
     ]
    }
   ],
   "source": [
    "# Aggregate win/loss/draw stats for a player\n",
    "def gameStats(games, player=1):\n",
    "    stats = {\"win\": 0, \"loss\": 0, \"draw\": 0}\n",
    "    for game in games:\n",
    "        result = getWinner(movesToBoard(game))\n",
    "        if result == -1:\n",
    "            continue\n",
    "        elif result == player:\n",
    "            stats[\"win\"] += 1\n",
    "        elif result == 0:\n",
    "            stats[\"draw\"] += 1\n",
    "        else:\n",
    "            stats[\"loss\"] += 1\n",
    "    \n",
    "    winPct = stats[\"win\"] / len(games) * 100\n",
    "    lossPct = stats[\"loss\"] / len(games) * 100\n",
    "    drawPct = stats[\"draw\"] / len(games) * 100\n",
    "\n",
    "    print(\"Results for player %d:\" % (player))\n",
    "    print(\"Wins: %d (%.1f%%)\" % (stats[\"win\"], winPct))\n",
    "    print(\"Loss: %d (%.1f%%)\" % (stats[\"loss\"], lossPct))\n",
    "    print(\"Draw: %d (%.1f%%)\" % (stats[\"draw\"], drawPct))\n",
    "\n",
    "gameStats(games)\n",
    "print()\n",
    "gameStats(games, player=2)"
   ]
  },
  {
   "cell_type": "markdown",
   "metadata": {},
   "source": [
    "* As shown above, when moves are chosen at random, player 1 has a significant advantage! However, we know that when people play tic-tac-toe, it's easy to force a draw, so we'd expect similar behavior from a neural network trained to play tic-tac-toe.\n",
    "* We choose a DNN architecture since we effectively want to predict the outcome of a game based on the given board state.\n",
    "* The input for each cell is the board state, which we reshape into a flat array of 9 elements, each element of which can be a 0 (empty cell), 1 (player 1 move), or 2 (player 2 move).\n",
    "* The output is the result of the game (win, loss, or draw). We use a one-hot encoded array for this."
   ]
  },
  {
   "cell_type": "code",
   "execution_count": 9,
   "metadata": {},
   "outputs": [
    {
     "name": "stdout",
     "output_type": "stream",
     "text": [
      "Model: \"sequential\"\n",
      "_________________________________________________________________\n",
      " Layer (type)                Output Shape              Param #   \n",
      "=================================================================\n",
      " dense (Dense)               (None, 200)               2000      \n",
      "                                                                 \n",
      " dropout (Dropout)           (None, 200)               0         \n",
      "                                                                 \n",
      " dense_1 (Dense)             (None, 125)               25125     \n",
      "                                                                 \n",
      " dense_2 (Dense)             (None, 75)                9450      \n",
      "                                                                 \n",
      " dropout_1 (Dropout)         (None, 75)                0         \n",
      "                                                                 \n",
      " dense_3 (Dense)             (None, 25)                1900      \n",
      "                                                                 \n",
      " dense_4 (Dense)             (None, 3)                 78        \n",
      "                                                                 \n",
      "=================================================================\n",
      "Total params: 38553 (150.60 KB)\n",
      "Trainable params: 38553 (150.60 KB)\n",
      "Non-trainable params: 0 (0.00 Byte)\n",
      "_________________________________________________________________\n",
      "None\n"
     ]
    }
   ],
   "source": [
    "def getModel():\n",
    "    numCells = 9 # How many cells in a 3x3 tic-tac-toe board?\n",
    "    outcomes = 3 # How many outcomes are there in a game? (draw, X-wins, O-wins)\n",
    "    model = Sequential()\n",
    "    model.add(Dense(200, activation='relu', input_shape=(9, )))\n",
    "    model.add(Dropout(0.2))\n",
    "    model.add(Dense(125, activation='relu'))\n",
    "    model.add(Dense(75, activation='relu'))\n",
    "    model.add(Dropout(0.1))\n",
    "    model.add(Dense(25, activation='relu'))\n",
    "    model.add(Dense(outcomes, activation='softmax'))\n",
    "    model.compile(loss='categorical_crossentropy', optimizer='rmsprop', metrics=['acc'])\n",
    "    return model\n",
    "model = getModel()\n",
    "print(model.summary())"
   ]
  },
  {
   "cell_type": "markdown",
   "metadata": {},
   "source": [
    "* Next, we reshape our data in preparation for training. "
   ]
  },
  {
   "cell_type": "code",
   "execution_count": 10,
   "metadata": {},
   "outputs": [],
   "source": [
    "# Get a set of board states labelled by who eventually won that game\n",
    "def gamesToWinLossData(games):\n",
    "    X = []\n",
    "    y = []\n",
    "    for game in games:\n",
    "        winner = getWinner(movesToBoard(game))\n",
    "        for move in range(len(game)):\n",
    "            X.append(movesToBoard(game[:(move + 1)]))\n",
    "            y.append(winner)\n",
    "\n",
    "    X = np.array(X).reshape((-1, 9))\n",
    "    y = to_categorical(y)\n",
    "    \n",
    "    # Return an appropriate train/test split\n",
    "    trainNum = int(len(X) * 0.8)\n",
    "    return (X[:trainNum], X[trainNum:], y[:trainNum], y[trainNum:])\n",
    "\n",
    "# Split out train and validation data\n",
    "X_train, X_test, y_train, y_test = gamesToWinLossData(games)"
   ]
  },
  {
   "cell_type": "markdown",
   "metadata": {},
   "source": [
    "* Next, we train our model on the random tic-tac-toe games we generated earlier."
   ]
  },
  {
   "cell_type": "code",
   "execution_count": 11,
   "metadata": {},
   "outputs": [
    {
     "name": "stdout",
     "output_type": "stream",
     "text": [
      "Epoch 1/100\n",
      "610/610 [==============================] - 1s 1ms/step - loss: 0.9385 - acc: 0.5713 - val_loss: 0.8668 - val_acc: 0.6223\n",
      "Epoch 2/100\n",
      "610/610 [==============================] - 1s 910us/step - loss: 0.8812 - acc: 0.5967 - val_loss: 0.8546 - val_acc: 0.6126\n",
      "Epoch 3/100\n",
      "610/610 [==============================] - 1s 993us/step - loss: 0.8434 - acc: 0.6145 - val_loss: 0.7989 - val_acc: 0.6424\n",
      "Epoch 4/100\n",
      "610/610 [==============================] - 1s 966us/step - loss: 0.8169 - acc: 0.6237 - val_loss: 0.7866 - val_acc: 0.6507\n",
      "Epoch 5/100\n",
      "610/610 [==============================] - 1s 971us/step - loss: 0.7992 - acc: 0.6324 - val_loss: 0.7691 - val_acc: 0.6556\n",
      "Epoch 6/100\n",
      "610/610 [==============================] - 1s 969us/step - loss: 0.7868 - acc: 0.6379 - val_loss: 0.7459 - val_acc: 0.6670\n",
      "Epoch 7/100\n",
      "610/610 [==============================] - 1s 921us/step - loss: 0.7739 - acc: 0.6457 - val_loss: 0.7423 - val_acc: 0.6675\n",
      "Epoch 8/100\n",
      "610/610 [==============================] - 1s 917us/step - loss: 0.7663 - acc: 0.6472 - val_loss: 0.7377 - val_acc: 0.6688\n",
      "Epoch 9/100\n",
      "610/610 [==============================] - 1s 1ms/step - loss: 0.7597 - acc: 0.6496 - val_loss: 0.7256 - val_acc: 0.6738\n",
      "Epoch 10/100\n",
      "610/610 [==============================] - 1s 937us/step - loss: 0.7539 - acc: 0.6535 - val_loss: 0.7211 - val_acc: 0.6795\n",
      "Epoch 11/100\n",
      "610/610 [==============================] - 1s 949us/step - loss: 0.7479 - acc: 0.6547 - val_loss: 0.7302 - val_acc: 0.6764\n",
      "Epoch 12/100\n",
      "610/610 [==============================] - 1s 931us/step - loss: 0.7450 - acc: 0.6569 - val_loss: 0.7245 - val_acc: 0.6795\n",
      "Epoch 13/100\n",
      "610/610 [==============================] - 1s 878us/step - loss: 0.7417 - acc: 0.6582 - val_loss: 0.7100 - val_acc: 0.6802\n",
      "Epoch 14/100\n",
      "610/610 [==============================] - 1s 877us/step - loss: 0.7392 - acc: 0.6585 - val_loss: 0.7186 - val_acc: 0.6751\n",
      "Epoch 15/100\n",
      "610/610 [==============================] - 1s 880us/step - loss: 0.7352 - acc: 0.6617 - val_loss: 0.7055 - val_acc: 0.6830\n",
      "Epoch 16/100\n",
      "610/610 [==============================] - 1s 948us/step - loss: 0.7347 - acc: 0.6608 - val_loss: 0.7077 - val_acc: 0.6779\n",
      "Epoch 17/100\n",
      "610/610 [==============================] - 1s 974us/step - loss: 0.7315 - acc: 0.6618 - val_loss: 0.7027 - val_acc: 0.6823\n",
      "Epoch 18/100\n",
      "610/610 [==============================] - 1s 1ms/step - loss: 0.7301 - acc: 0.6643 - val_loss: 0.7128 - val_acc: 0.6771\n",
      "Epoch 19/100\n",
      "610/610 [==============================] - 1s 961us/step - loss: 0.7271 - acc: 0.6642 - val_loss: 0.7027 - val_acc: 0.6819\n",
      "Epoch 20/100\n",
      "610/610 [==============================] - 1s 1ms/step - loss: 0.7249 - acc: 0.6649 - val_loss: 0.7048 - val_acc: 0.6823\n",
      "Epoch 21/100\n",
      "610/610 [==============================] - 1s 951us/step - loss: 0.7238 - acc: 0.6650 - val_loss: 0.6960 - val_acc: 0.6860\n",
      "Epoch 22/100\n",
      "610/610 [==============================] - 1s 913us/step - loss: 0.7231 - acc: 0.6665 - val_loss: 0.7077 - val_acc: 0.6797\n",
      "Epoch 23/100\n",
      "610/610 [==============================] - 1s 903us/step - loss: 0.7226 - acc: 0.6650 - val_loss: 0.7029 - val_acc: 0.6795\n",
      "Epoch 24/100\n",
      "610/610 [==============================] - 1s 909us/step - loss: 0.7188 - acc: 0.6668 - val_loss: 0.7032 - val_acc: 0.6795\n",
      "Epoch 25/100\n",
      "610/610 [==============================] - 1s 912us/step - loss: 0.7201 - acc: 0.6666 - val_loss: 0.7026 - val_acc: 0.6799\n",
      "Epoch 26/100\n",
      "610/610 [==============================] - 1s 909us/step - loss: 0.7187 - acc: 0.6677 - val_loss: 0.7019 - val_acc: 0.6780\n",
      "Epoch 27/100\n",
      "610/610 [==============================] - 1s 909us/step - loss: 0.7182 - acc: 0.6695 - val_loss: 0.7017 - val_acc: 0.6794\n",
      "Epoch 28/100\n",
      "610/610 [==============================] - 1s 914us/step - loss: 0.7173 - acc: 0.6696 - val_loss: 0.6962 - val_acc: 0.6816\n",
      "Epoch 29/100\n",
      "610/610 [==============================] - 1s 929us/step - loss: 0.7178 - acc: 0.6696 - val_loss: 0.6932 - val_acc: 0.6858\n",
      "Epoch 30/100\n",
      "610/610 [==============================] - 1s 920us/step - loss: 0.7126 - acc: 0.6697 - val_loss: 0.6923 - val_acc: 0.6826\n",
      "Epoch 31/100\n",
      "610/610 [==============================] - 1s 919us/step - loss: 0.7159 - acc: 0.6683 - val_loss: 0.6932 - val_acc: 0.6826\n",
      "Epoch 32/100\n",
      "610/610 [==============================] - 1s 911us/step - loss: 0.7133 - acc: 0.6704 - val_loss: 0.7166 - val_acc: 0.6761\n",
      "Epoch 33/100\n",
      "610/610 [==============================] - 1s 916us/step - loss: 0.7138 - acc: 0.6700 - val_loss: 0.6947 - val_acc: 0.6826\n",
      "Epoch 34/100\n",
      "610/610 [==============================] - 1s 917us/step - loss: 0.7122 - acc: 0.6709 - val_loss: 0.6898 - val_acc: 0.6858\n",
      "Epoch 35/100\n",
      "610/610 [==============================] - 1s 914us/step - loss: 0.7111 - acc: 0.6713 - val_loss: 0.6925 - val_acc: 0.6830\n",
      "Epoch 36/100\n",
      "610/610 [==============================] - 1s 905us/step - loss: 0.7113 - acc: 0.6718 - val_loss: 0.6920 - val_acc: 0.6831\n",
      "Epoch 37/100\n",
      "610/610 [==============================] - 1s 902us/step - loss: 0.7113 - acc: 0.6713 - val_loss: 0.6958 - val_acc: 0.6797\n",
      "Epoch 38/100\n",
      "610/610 [==============================] - 1s 903us/step - loss: 0.7101 - acc: 0.6694 - val_loss: 0.6922 - val_acc: 0.6837\n",
      "Epoch 39/100\n",
      "610/610 [==============================] - 1s 907us/step - loss: 0.7077 - acc: 0.6725 - val_loss: 0.6983 - val_acc: 0.6792\n",
      "Epoch 40/100\n",
      "610/610 [==============================] - 1s 909us/step - loss: 0.7111 - acc: 0.6695 - val_loss: 0.6902 - val_acc: 0.6858\n",
      "Epoch 41/100\n",
      "610/610 [==============================] - 1s 926us/step - loss: 0.7090 - acc: 0.6712 - val_loss: 0.7006 - val_acc: 0.6776\n",
      "Epoch 42/100\n",
      "610/610 [==============================] - 1s 913us/step - loss: 0.7089 - acc: 0.6728 - val_loss: 0.6947 - val_acc: 0.6803\n",
      "Epoch 43/100\n",
      "610/610 [==============================] - 1s 913us/step - loss: 0.7084 - acc: 0.6727 - val_loss: 0.6933 - val_acc: 0.6839\n",
      "Epoch 44/100\n",
      "610/610 [==============================] - 1s 910us/step - loss: 0.7085 - acc: 0.6735 - val_loss: 0.7000 - val_acc: 0.6789\n",
      "Epoch 45/100\n",
      "610/610 [==============================] - 1s 921us/step - loss: 0.7081 - acc: 0.6721 - val_loss: 0.6873 - val_acc: 0.6875\n",
      "Epoch 46/100\n",
      "610/610 [==============================] - 1s 924us/step - loss: 0.7048 - acc: 0.6722 - val_loss: 0.6881 - val_acc: 0.6862\n",
      "Epoch 47/100\n",
      "610/610 [==============================] - 1s 933us/step - loss: 0.7064 - acc: 0.6729 - val_loss: 0.6898 - val_acc: 0.6830\n",
      "Epoch 48/100\n",
      "610/610 [==============================] - 1s 908us/step - loss: 0.7056 - acc: 0.6732 - val_loss: 0.6933 - val_acc: 0.6873\n",
      "Epoch 49/100\n",
      "610/610 [==============================] - 1s 903us/step - loss: 0.7054 - acc: 0.6736 - val_loss: 0.6922 - val_acc: 0.6849\n",
      "Epoch 50/100\n",
      "610/610 [==============================] - 1s 898us/step - loss: 0.7055 - acc: 0.6731 - val_loss: 0.6867 - val_acc: 0.6871\n",
      "Epoch 51/100\n",
      "610/610 [==============================] - 1s 908us/step - loss: 0.7041 - acc: 0.6737 - val_loss: 0.6946 - val_acc: 0.6805\n",
      "Epoch 52/100\n",
      "610/610 [==============================] - 1s 916us/step - loss: 0.7030 - acc: 0.6730 - val_loss: 0.6886 - val_acc: 0.6872\n",
      "Epoch 53/100\n",
      "610/610 [==============================] - 1s 908us/step - loss: 0.7038 - acc: 0.6726 - val_loss: 0.6887 - val_acc: 0.6881\n",
      "Epoch 54/100\n",
      "610/610 [==============================] - 1s 909us/step - loss: 0.7052 - acc: 0.6735 - val_loss: 0.6987 - val_acc: 0.6824\n",
      "Epoch 55/100\n",
      "610/610 [==============================] - 1s 905us/step - loss: 0.7040 - acc: 0.6741 - val_loss: 0.7067 - val_acc: 0.6778\n",
      "Epoch 56/100\n",
      "610/610 [==============================] - 1s 905us/step - loss: 0.7033 - acc: 0.6734 - val_loss: 0.6948 - val_acc: 0.6887\n",
      "Epoch 57/100\n",
      "610/610 [==============================] - 1s 908us/step - loss: 0.7040 - acc: 0.6743 - val_loss: 0.6876 - val_acc: 0.6857\n",
      "Epoch 58/100\n",
      "610/610 [==============================] - 1s 910us/step - loss: 0.7040 - acc: 0.6738 - val_loss: 0.6858 - val_acc: 0.6897\n",
      "Epoch 59/100\n",
      "610/610 [==============================] - 1s 922us/step - loss: 0.7016 - acc: 0.6739 - val_loss: 0.6901 - val_acc: 0.6879\n",
      "Epoch 60/100\n",
      "610/610 [==============================] - 1s 920us/step - loss: 0.7032 - acc: 0.6728 - val_loss: 0.6869 - val_acc: 0.6853\n",
      "Epoch 61/100\n",
      "610/610 [==============================] - 1s 922us/step - loss: 0.7015 - acc: 0.6743 - val_loss: 0.7016 - val_acc: 0.6717\n",
      "Epoch 62/100\n",
      "610/610 [==============================] - 1s 923us/step - loss: 0.7015 - acc: 0.6744 - val_loss: 0.6991 - val_acc: 0.6803\n",
      "Epoch 63/100\n",
      "610/610 [==============================] - 1s 909us/step - loss: 0.7020 - acc: 0.6737 - val_loss: 0.6852 - val_acc: 0.6862\n",
      "Epoch 64/100\n",
      "610/610 [==============================] - 1s 911us/step - loss: 0.7012 - acc: 0.6754 - val_loss: 0.6919 - val_acc: 0.6786\n",
      "Epoch 65/100\n",
      "610/610 [==============================] - 1s 916us/step - loss: 0.7013 - acc: 0.6745 - val_loss: 0.6931 - val_acc: 0.6858\n",
      "Epoch 66/100\n",
      "610/610 [==============================] - 1s 908us/step - loss: 0.7008 - acc: 0.6748 - val_loss: 0.6872 - val_acc: 0.6828\n",
      "Epoch 67/100\n",
      "610/610 [==============================] - 1s 910us/step - loss: 0.7021 - acc: 0.6739 - val_loss: 0.6884 - val_acc: 0.6854\n",
      "Epoch 68/100\n",
      "610/610 [==============================] - 1s 915us/step - loss: 0.7016 - acc: 0.6724 - val_loss: 0.6877 - val_acc: 0.6895\n",
      "Epoch 69/100\n",
      "610/610 [==============================] - 1s 912us/step - loss: 0.7003 - acc: 0.6760 - val_loss: 0.6922 - val_acc: 0.6812\n",
      "Epoch 70/100\n",
      "610/610 [==============================] - 1s 909us/step - loss: 0.7024 - acc: 0.6755 - val_loss: 0.6851 - val_acc: 0.6846\n",
      "Epoch 71/100\n",
      "610/610 [==============================] - 1s 909us/step - loss: 0.6994 - acc: 0.6743 - val_loss: 0.6867 - val_acc: 0.6858\n",
      "Epoch 72/100\n",
      "610/610 [==============================] - 1s 922us/step - loss: 0.7006 - acc: 0.6740 - val_loss: 0.6882 - val_acc: 0.6860\n",
      "Epoch 73/100\n",
      "610/610 [==============================] - 1s 915us/step - loss: 0.7007 - acc: 0.6748 - val_loss: 0.6879 - val_acc: 0.6862\n",
      "Epoch 74/100\n",
      "610/610 [==============================] - 1s 929us/step - loss: 0.7021 - acc: 0.6760 - val_loss: 0.6908 - val_acc: 0.6847\n",
      "Epoch 75/100\n",
      "610/610 [==============================] - 1s 917us/step - loss: 0.7012 - acc: 0.6751 - val_loss: 0.6870 - val_acc: 0.6828\n",
      "Epoch 76/100\n",
      "610/610 [==============================] - 1s 913us/step - loss: 0.6995 - acc: 0.6764 - val_loss: 0.6924 - val_acc: 0.6810\n",
      "Epoch 77/100\n",
      "610/610 [==============================] - 1s 910us/step - loss: 0.7012 - acc: 0.6739 - val_loss: 0.6905 - val_acc: 0.6811\n",
      "Epoch 78/100\n",
      "610/610 [==============================] - 1s 913us/step - loss: 0.7009 - acc: 0.6745 - val_loss: 0.6836 - val_acc: 0.6852\n",
      "Epoch 79/100\n",
      "610/610 [==============================] - 1s 918us/step - loss: 0.7017 - acc: 0.6740 - val_loss: 0.6849 - val_acc: 0.6865\n",
      "Epoch 80/100\n",
      "610/610 [==============================] - 1s 912us/step - loss: 0.6991 - acc: 0.6763 - val_loss: 0.6878 - val_acc: 0.6845\n",
      "Epoch 81/100\n",
      "610/610 [==============================] - 1s 914us/step - loss: 0.7011 - acc: 0.6729 - val_loss: 0.6918 - val_acc: 0.6849\n",
      "Epoch 82/100\n",
      "610/610 [==============================] - 1s 933us/step - loss: 0.7002 - acc: 0.6759 - val_loss: 0.6838 - val_acc: 0.6856\n",
      "Epoch 83/100\n",
      "610/610 [==============================] - 1s 914us/step - loss: 0.7009 - acc: 0.6747 - val_loss: 0.6880 - val_acc: 0.6860\n",
      "Epoch 84/100\n",
      "610/610 [==============================] - 1s 922us/step - loss: 0.6994 - acc: 0.6758 - val_loss: 0.6884 - val_acc: 0.6850\n",
      "Epoch 85/100\n",
      "610/610 [==============================] - 1s 915us/step - loss: 0.6991 - acc: 0.6751 - val_loss: 0.6878 - val_acc: 0.6817\n",
      "Epoch 86/100\n",
      "610/610 [==============================] - 1s 920us/step - loss: 0.6970 - acc: 0.6768 - val_loss: 0.6878 - val_acc: 0.6843\n",
      "Epoch 87/100\n",
      "610/610 [==============================] - 1s 907us/step - loss: 0.7000 - acc: 0.6745 - val_loss: 0.6855 - val_acc: 0.6828\n",
      "Epoch 88/100\n",
      "610/610 [==============================] - 1s 915us/step - loss: 0.7004 - acc: 0.6749 - val_loss: 0.6831 - val_acc: 0.6846\n",
      "Epoch 89/100\n",
      "610/610 [==============================] - 1s 929us/step - loss: 0.6981 - acc: 0.6761 - val_loss: 0.6902 - val_acc: 0.6820\n",
      "Epoch 90/100\n",
      "610/610 [==============================] - 1s 918us/step - loss: 0.6994 - acc: 0.6746 - val_loss: 0.6838 - val_acc: 0.6872\n",
      "Epoch 91/100\n",
      "610/610 [==============================] - 1s 955us/step - loss: 0.6998 - acc: 0.6746 - val_loss: 0.6890 - val_acc: 0.6837\n",
      "Epoch 92/100\n",
      "610/610 [==============================] - 1s 922us/step - loss: 0.6993 - acc: 0.6751 - val_loss: 0.6860 - val_acc: 0.6812\n",
      "Epoch 93/100\n",
      "610/610 [==============================] - 1s 920us/step - loss: 0.6992 - acc: 0.6747 - val_loss: 0.6856 - val_acc: 0.6848\n",
      "Epoch 94/100\n",
      "610/610 [==============================] - 1s 921us/step - loss: 0.6997 - acc: 0.6764 - val_loss: 0.6806 - val_acc: 0.6872\n",
      "Epoch 95/100\n",
      "610/610 [==============================] - 1s 930us/step - loss: 0.6981 - acc: 0.6764 - val_loss: 0.6873 - val_acc: 0.6793\n",
      "Epoch 96/100\n",
      "610/610 [==============================] - 1s 940us/step - loss: 0.6997 - acc: 0.6757 - val_loss: 0.6942 - val_acc: 0.6860\n",
      "Epoch 97/100\n",
      "610/610 [==============================] - 1s 935us/step - loss: 0.6993 - acc: 0.6758 - val_loss: 0.6842 - val_acc: 0.6845\n",
      "Epoch 98/100\n",
      "610/610 [==============================] - 1s 957us/step - loss: 0.6981 - acc: 0.6748 - val_loss: 0.6812 - val_acc: 0.6864\n",
      "Epoch 99/100\n",
      "610/610 [==============================] - 1s 941us/step - loss: 0.6982 - acc: 0.6762 - val_loss: 0.6800 - val_acc: 0.6871\n",
      "Epoch 100/100\n",
      "610/610 [==============================] - 1s 939us/step - loss: 0.6993 - acc: 0.6770 - val_loss: 0.6871 - val_acc: 0.6807\n"
     ]
    }
   ],
   "source": [
    "nEpochs = 100\n",
    "batchSize = 100\n",
    "history = model.fit(X_train, y_train, validation_data=(X_test, y_test), epochs=nEpochs, batch_size=batchSize)"
   ]
  },
  {
   "cell_type": "markdown",
   "metadata": {},
   "source": [
    "* We see that our very simple model caps out at around 58% validation accuracy.\n",
    "* Next, we use this trained model to play a game and see if we do any better than random chance."
   ]
  },
  {
   "cell_type": "markdown",
   "metadata": {},
   "source": [
    "* Now, we play a game against our model and see how well it does. We let it make the first move."
   ]
  },
  {
   "cell_type": "code",
   "execution_count": 25,
   "metadata": {},
   "outputs": [
    {
     "name": "stdout",
     "output_type": "stream",
     "text": [
      " | | \n",
      "-----\n",
      " | | \n",
      "-----\n",
      " | |X\n"
     ]
    }
   ],
   "source": [
    "# Create new board\n",
    "board = initBoard()\n",
    "\n",
    "# Move 1 (computer)\n",
    "move = bestMove(board, model, 1)\n",
    "board[move[0]][move[1]] = 1\n",
    "printBoard(board)"
   ]
  },
  {
   "cell_type": "code",
   "execution_count": 26,
   "metadata": {},
   "outputs": [
    {
     "name": "stdout",
     "output_type": "stream",
     "text": [
      " | | \n",
      "-----\n",
      " |O| \n",
      "-----\n",
      " | |X\n"
     ]
    }
   ],
   "source": [
    "# Move 2 (human)\n",
    "board[1][1] = 2\n",
    "printBoard(board)"
   ]
  },
  {
   "cell_type": "code",
   "execution_count": 27,
   "metadata": {},
   "outputs": [
    {
     "name": "stdout",
     "output_type": "stream",
     "text": [
      "X| | \n",
      "-----\n",
      " |O| \n",
      "-----\n",
      " | |X\n"
     ]
    }
   ],
   "source": [
    "# Move 3 (computer)\n",
    "move = bestMove(board, model, 1)\n",
    "board[move[0]][move[1]] = 1\n",
    "printBoard(board)"
   ]
  },
  {
   "cell_type": "code",
   "execution_count": 28,
   "metadata": {},
   "outputs": [
    {
     "name": "stdout",
     "output_type": "stream",
     "text": [
      "X| |O\n",
      "-----\n",
      " |O| \n",
      "-----\n",
      " | |X\n"
     ]
    }
   ],
   "source": [
    "# Move 4 (human)\n",
    "board[0][2] = 2\n",
    "printBoard(board)"
   ]
  },
  {
   "cell_type": "code",
   "execution_count": 29,
   "metadata": {},
   "outputs": [
    {
     "name": "stdout",
     "output_type": "stream",
     "text": [
      "X| |O\n",
      "-----\n",
      " |O| \n",
      "-----\n",
      "X| |X\n"
     ]
    }
   ],
   "source": [
    "# Move 5 (computer)\n",
    "move = bestMove(board, model, 1)\n",
    "board[move[0]][move[1]] = 1\n",
    "printBoard(board)"
   ]
  },
  {
   "cell_type": "code",
   "execution_count": 30,
   "metadata": {},
   "outputs": [
    {
     "name": "stdout",
     "output_type": "stream",
     "text": [
      "X| |O\n",
      "-----\n",
      " |O| \n",
      "-----\n",
      "X|O|X\n"
     ]
    }
   ],
   "source": [
    "# Move 6 (human)\n",
    "board[2][1] = 2\n",
    "printBoard(board)"
   ]
  },
  {
   "cell_type": "code",
   "execution_count": 31,
   "metadata": {},
   "outputs": [
    {
     "name": "stdout",
     "output_type": "stream",
     "text": [
      "X| |O\n",
      "-----\n",
      "X|O| \n",
      "-----\n",
      "X|O|X\n"
     ]
    }
   ],
   "source": [
    "# Move 7 (computer)\n",
    "move = bestMove(board, model, 1)\n",
    "board[move[0]][move[1]] = 1\n",
    "printBoard(board)"
   ]
  },
  {
   "cell_type": "markdown",
   "metadata": {},
   "source": [
    "* Computer wins! This might be bad for humanity. :-)"
   ]
  },
  {
   "cell_type": "markdown",
   "metadata": {},
   "source": [
    "# Convert to Cairo"
   ]
  },
  {
   "cell_type": "markdown",
   "metadata": {},
   "source": [
    "### Export Keras Model Weights and Biases:"
   ]
  },
  {
   "cell_type": "code",
   "execution_count": 12,
   "metadata": {},
   "outputs": [],
   "source": [
    "# Get weights and biases from the Keras model\n",
    "weights_and_biases = {}\n",
    "\n",
    "for layer in model.layers:\n",
    "    weights = layer.get_weights()\n",
    "    if len(weights) > 0:  # Ensure the layer has weights (Dense layers, Conv layers, etc.)\n",
    "        layer_name = layer.name\n",
    "        weights_and_biases[f\"{layer_name}_weights\"] = weights[0]\n",
    "        if len(weights) > 1:  # Checking if biases exist\n",
    "            weights_and_biases[f\"{layer_name}_bias\"] = weights[1]\n"
   ]
  },
  {
   "cell_type": "code",
   "execution_count": 13,
   "metadata": {},
   "outputs": [],
   "source": [
    "import os\n",
    "import numpy as np\n",
    "\n",
    "# Create the directory if it doesn't exist\n",
    "os.makedirs('src/generated', exist_ok=True)\n",
    "\n",
    "for tensor_name, tensor in weights_and_biases.items():\n",
    "    with open(os.path.join('src', 'generated', f\"{tensor_name}.cairo\"), \"w\") as f:\n",
    "        f.write(\n",
    "            \"use array::ArrayTrait;\\n\\n\" +\n",
    "            \"use orion::operators::tensor::{TensorTrait, Tensor, FP16x16Tensor};\\n\" +\n",
    "            \"use orion::numbers::{FixedTrait, FP16x16};\\n\\n\" +\n",
    "\n",
    "            \"\\nfn {0}() -> Tensor<FP16x16> \".format(tensor_name) + \"{\\n\" +\n",
    "            \"    let mut shape = array![\"\n",
    "        )\n",
    "        for dim in tensor.shape:\n",
    "            f.write(\"{0},\".format(dim))\n",
    "        f.write(\n",
    "            \"].span();\\n\"\n",
    "        )\n",
    "        f.write(\n",
    "            \"    let mut data = array![\\n\"\n",
    "        )\n",
    "        for val in np.nditer(tensor.flatten()):\n",
    "            f.write(\"FP16x16 {{ mag: {0}, sign: {1} }},\".format(\n",
    "                abs(int(val * 2**16)), str(val < 0).lower()))\n",
    "        f.write(\n",
    "            \"].span();\\n\"\n",
    "        )\n",
    "        f.write(\n",
    "            \"    TensorTrait::new(shape, data)\\n\" +\n",
    "            \"}\\n\"\n",
    "        )\n",
    "\n",
    "with open(os.path.join('src', 'generated.cairo'), 'w') as f:\n",
    "    for param_name in weights_and_biases.keys():\n",
    "        f.write(f\"mod {param_name};\\n\")\n"
   ]
  },
  {
   "cell_type": "code",
   "execution_count": null,
   "metadata": {},
   "outputs": [],
   "source": []
  }
 ],
 "metadata": {
  "kernelspec": {
   "display_name": "Python 3",
   "language": "python",
   "name": "python3"
  },
  "language_info": {
   "codemirror_mode": {
    "name": "ipython",
    "version": 3
   },
   "file_extension": ".py",
   "mimetype": "text/x-python",
   "name": "python",
   "nbconvert_exporter": "python",
   "pygments_lexer": "ipython3",
   "version": "3.11.6"
  }
 },
 "nbformat": 4,
 "nbformat_minor": 2
}
